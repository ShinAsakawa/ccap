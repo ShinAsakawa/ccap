{
  "nbformat": 4,
  "nbformat_minor": 0,
  "metadata": {
    "colab": {
      "name": "2020-0724importing_ccap_from_GitHub.ipynb",
      "provenance": [],
      "private_outputs": true,
      "toc_visible": true,
      "authorship_tag": "ABX9TyOLOtH1zMDZ7xLzemIr7mb6",
      "include_colab_link": true
    },
    "kernelspec": {
      "name": "python3",
      "display_name": "Python 3"
    }
  },
  "cells": [
    {
      "cell_type": "markdown",
      "metadata": {
        "id": "view-in-github",
        "colab_type": "text"
      },
      "source": [
        "<a href=\"https://colab.research.google.com/github/project-ccap/ccap/blob/master/notebooks/2020importing_ccap_from_GitHub.ipynb\" target=\"_parent\"><img src=\"https://colab.research.google.com/assets/colab-badge.svg\" alt=\"Open In Colab\"/></a>"
      ]
    },
    {
      "cell_type": "code",
      "metadata": {
        "id": "ZFhhY4_NC3--",
        "colab_type": "code",
        "colab": {}
      },
      "source": [
        "import matplotlib.pyplot as plt\n",
        "%matplotlib inline\n",
        "!pip install japanize-matplotlib\n",
        "import japanize_matplotlib\n",
        "\n",
        "import nltk\n",
        "nltk.download('wordnet')\n",
        "nltk.download('omw')\n",
        "\n",
        "!git clone https://github.com/project-ccap/ccap.git"
      ],
      "execution_count": null,
      "outputs": []
    },
    {
      "cell_type": "code",
      "metadata": {
        "id": "_X1G-MzSF-bx",
        "colab_type": "code",
        "colab": {}
      },
      "source": [
        "# Import PyDrive and associated libraries.\n",
        "# This only needs to be done once per notebook.\n",
        "from pydrive.auth import GoogleAuth\n",
        "from pydrive.drive import GoogleDrive\n",
        "from google.colab import auth\n",
        "from oauth2client.client import GoogleCredentials\n",
        "\n",
        "# Authenticate and create the PyDrive client.\n",
        "# This only needs to be done once per notebook.\n",
        "auth.authenticate_user()\n",
        "gauth = GoogleAuth()\n",
        "gauth.credentials = GoogleCredentials.get_application_default()\n",
        "drive = GoogleDrive(gauth)\n",
        "\n",
        "# Download a file based on its file ID.\n",
        "#\n",
        "# A file ID looks like: laggVyWshwcyP6kEI-y_W3P8D26sz\n",
        "#https://drive.google.com/file/d/1LvoGyABdW3n3_EIs7PtntuQQiS2OM4jY/view?usp=sharing for Gdrive cis.twcu.ac.jp/GitHub_shared/ccap_imgs.tgz\n",
        "file_id = '1LvoGyABdW3n3_EIs7PtntuQQiS2OM4jY'\n",
        "downloaded = drive.CreateFile({'id': file_id})\n",
        "downloaded.GetContentFile('ccap_imgs.tgz')\n",
        "!tar xzf ccap_imgs.tgz"
      ],
      "execution_count": null,
      "outputs": []
    },
    {
      "cell_type": "code",
      "metadata": {
        "id": "8lVpuNJgX1ef",
        "colab_type": "code",
        "colab": {}
      },
      "source": [
        "#!ls -alt data\n",
        "!rm -rf ccap/data\n",
        "!tar xzf ccap_imgs.tgz\n",
        "!mv data ccap\n"
      ],
      "execution_count": null,
      "outputs": []
    },
    {
      "cell_type": "code",
      "metadata": {
        "id": "NKa1wHOyZLEx",
        "colab_type": "code",
        "colab": {}
      },
      "source": [
        "#!rm -rf ccap\n",
        "!git clone https://github.com/project-ccap/ccap.git\n",
        "\n",
        "from ccap import imagenetDataset\n",
        "imagenet = imagenetDataset()\n",
        "\n",
        "from ccap import tlpaDataset\n",
        "tlpa = tlpaDataset()\n",
        "tlpa(1)"
      ],
      "execution_count": null,
      "outputs": []
    },
    {
      "cell_type": "code",
      "metadata": {
        "id": "7yDwGfrlflw6",
        "colab_type": "code",
        "colab": {}
      },
      "source": [
        "#tlpa.show_an_image('桜')\n",
        "!ls ccap/data/tlpa_images"
      ],
      "execution_count": null,
      "outputs": []
    },
    {
      "cell_type": "code",
      "metadata": {
        "id": "6SsHKsdhiqlN",
        "colab_type": "code",
        "colab": {}
      },
      "source": [
        "import PIL.Image as PILImage\n",
        "\n",
        "img = PILImage.open(tlpa.data[1]['img'])\n",
        "plt.imshow(img)"
      ],
      "execution_count": null,
      "outputs": []
    },
    {
      "cell_type": "code",
      "metadata": {
        "id": "WPl_Y-WNhz5u",
        "colab_type": "code",
        "colab": {}
      },
      "source": [
        "imagenet_definition_list = [imagenet.data[x]['definition'] for x in imagenet.data]\n",
        "imagenet_definition_list[0].lower()"
      ],
      "execution_count": null,
      "outputs": []
    },
    {
      "cell_type": "code",
      "metadata": {
        "id": "Il3GAG33KJD0",
        "colab_type": "code",
        "colab": {}
      },
      "source": [
        "# meta.bin file の入手 https://drive.google.com/file/d/1OEkubd1KyEgcfrl3C8qyVdh1_yLmKLiV/view?usp=sharing\n",
        "# https://drive.google.com/file/d/1VGVgGIXwp1Ts0wqEroAphhxSuB8ubkwp/view?usp=sharing\n",
        "download = drive.CreateFile({'id': '1VGVgGIXwp1Ts0wqEroAphhxSuB8ubkwp'})\n",
        "download.GetContentFile('meta.bin')\n"
      ],
      "execution_count": null,
      "outputs": []
    },
    {
      "cell_type": "code",
      "metadata": {
        "id": "-uJz0JcxDhRq",
        "colab_type": "code",
        "colab": {}
      },
      "source": [
        "#help(downloaded)\n",
        "meta = download.GetContentFile('meta.bin')"
      ],
      "execution_count": null,
      "outputs": []
    },
    {
      "cell_type": "code",
      "metadata": {
        "id": "fvvvWKHhKh-C",
        "colab_type": "code",
        "colab": {}
      },
      "source": [
        "!cp -rp data/* ccap/data/\n",
        "#!ls ccap/data/Nishimoto-BRM-2005/\n",
        "#!ls -F ccap/data/tlpa_images/\n",
        "from ccap import tlpaDataset\n",
        "tlpa = tlpaDataset()"
      ],
      "execution_count": null,
      "outputs": []
    },
    {
      "cell_type": "code",
      "metadata": {
        "id": "m7lEW6orLOUC",
        "colab_type": "code",
        "colab": {}
      },
      "source": [
        "import os\n",
        "#tlpa.show_an_image(1)\n",
        "img = PILImage.open(os.path.join(os.getcwd(), tlpa(0)[0].lower()))\n",
        "plt.imshow(img)\n",
        "!ls ccap/data/tlpa_images/001*"
      ],
      "execution_count": null,
      "outputs": []
    },
    {
      "cell_type": "code",
      "metadata": {
        "id": "gjMv1M5Alsag",
        "colab_type": "code",
        "colab": {}
      },
      "source": [
        "!ls /content/ccap/data/tlpa_images/"
      ],
      "execution_count": null,
      "outputs": []
    },
    {
      "cell_type": "code",
      "metadata": {
        "id": "_5g-83qHlQB2",
        "colab_type": "code",
        "colab": {}
      },
      "source": [
        "import sys\n",
        "sys.path."
      ],
      "execution_count": null,
      "outputs": []
    },
    {
      "cell_type": "code",
      "metadata": {
        "id": "Cdk7R7V9hAzS",
        "colab_type": "code",
        "colab": {}
      },
      "source": [
        "import nltk\n",
        "nltk.download('wordnet')\n",
        "nltk.download('omw')"
      ],
      "execution_count": null,
      "outputs": []
    },
    {
      "cell_type": "code",
      "metadata": {
        "id": "6PZDGcIgg0TC",
        "colab_type": "code",
        "colab": {}
      },
      "source": [
        "from ccap import imagenetDataset\n",
        "imagenet = imagenetDataset()"
      ],
      "execution_count": null,
      "outputs": []
    },
    {
      "cell_type": "code",
      "metadata": {
        "id": "IRI-p2C0DBcK",
        "colab_type": "code",
        "colab": {}
      },
      "source": [
        "from ccap import tlpaDataset\n",
        "tlpa = tlpaDataset()"
      ],
      "execution_count": null,
      "outputs": []
    },
    {
      "cell_type": "code",
      "metadata": {
        "id": "2JqxhPVF0XrT",
        "colab_type": "code",
        "colab": {}
      },
      "source": [
        "plt.scatter(x,y)\n",
        "plt.xlabel('日本語可？')\n",
        "annos = ['一', '弐', '参', '四', '伍', '六', '七', '八','九', '十']\n",
        "for i in range(len(x)):\n",
        "    #print(str(i), (x[i], y[i]))\n",
        "    plt.annotate(annos[i], (x[i], y[i]))\n",
        "#plt.show()    "
      ],
      "execution_count": null,
      "outputs": []
    },
    {
      "cell_type": "code",
      "metadata": {
        "id": "eD_dc9lFw1TI",
        "colab_type": "code",
        "colab": {}
      },
      "source": [
        "!pip install -U bertviz\n",
        "from bertviz import head_view\n",
        "from transformers import BertTokenizer, BertModel"
      ],
      "execution_count": null,
      "outputs": []
    }
  ]
}