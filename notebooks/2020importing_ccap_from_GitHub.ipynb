{
  "nbformat": 4,
  "nbformat_minor": 0,
  "metadata": {
    "colab": {
      "name": "2020-0724importing_ccap_from_GitHub.ipynb",
      "provenance": [],
      "private_outputs": true,
      "toc_visible": true,
      "authorship_tag": "ABX9TyPk9ZfPrgl4SsQb9Ummys4o",
      "include_colab_link": true
    },
    "kernelspec": {
      "name": "python3",
      "display_name": "Python 3"
    }
  },
  "cells": [
    {
      "cell_type": "markdown",
      "metadata": {
        "id": "view-in-github",
        "colab_type": "text"
      },
      "source": [
        "<a href=\"https://colab.research.google.com/github/project-ccap/ccap/blob/master/notebooks/2020importing_ccap_from_GitHub.ipynb\" target=\"_parent\"><img src=\"https://colab.research.google.com/assets/colab-badge.svg\" alt=\"Open In Colab\"/></a>"
      ]
    },
    {
      "cell_type": "code",
      "metadata": {
        "id": "ZFhhY4_NC3--",
        "colab_type": "code",
        "colab": {}
      },
      "source": [
        "# 各画像の画面表示時に日本語キャプションを付与する準備\n",
        "import matplotlib.pyplot as plt\n",
        "%matplotlib inline\n",
        "!pip install japanize-matplotlib\n",
        "import japanize_matplotlib\n",
        "\n",
        "#  ImageNet の各ラベルの WordNet ID 処理用\n",
        "import nltk\n",
        "nltk.download('wordnet')\n",
        "nltk.download('omw')\n",
        "\n",
        "# ライブラリのインストール\n",
        "!git clone https://github.com/project-ccap/ccap.git"
      ],
      "execution_count": null,
      "outputs": []
    },
    {
      "cell_type": "code",
      "metadata": {
        "id": "_X1G-MzSF-bx",
        "colab_type": "code",
        "colab": {}
      },
      "source": [
        "# 画像データ，設定データを Google Drive から入手\n",
        "# このセルを実行するとブラウザの別タブで Google アカウントへの認証が求められる\n",
        "# Google アカウントを選択するとクリデンシャルキーが表示されるので，そのキーを\n",
        "# コピーして，このセルの出力欄にある空欄に貼り付けてエンターキー (リターンキー) を押下する\n",
        "\n",
        "# Import PyDrive and associated libraries.\n",
        "# This only needs to be done once per notebook.\n",
        "from pydrive.auth import GoogleAuth\n",
        "from pydrive.drive import GoogleDrive\n",
        "from google.colab import auth\n",
        "from oauth2client.client import GoogleCredentials\n",
        "\n",
        "# Authenticate and create the PyDrive client.\n",
        "# This only needs to be done once per notebook.\n",
        "auth.authenticate_user()\n",
        "gauth = GoogleAuth()\n",
        "gauth.credentials = GoogleCredentials.get_application_default()\n",
        "drive = GoogleDrive(gauth)\n",
        "\n",
        "# 以下実際のデータの情報\n",
        "#https://drive.google.com/file/d/1xKXbovkEQwdJefzCuaS_a351LUIuRz-1/view?usp=sharing \n",
        "#for Gdrive cis.twcu.ac.jp/GitHub_shared/ccap_data.tgz\n",
        "file_id = '1xKXbovkEQwdJefzCuaS_a351LUIuRz-1'\n",
        "downloaded = drive.CreateFile({'id': file_id})\n",
        "downloaded.GetContentFile('ccap_data.tgz')\n",
        "\n",
        "# 入手したデータの解凍\n",
        "!tar xzf ccap_data.tgz"
      ],
      "execution_count": null,
      "outputs": []
    },
    {
      "cell_type": "code",
      "metadata": {
        "id": "NKa1wHOyZLEx",
        "colab_type": "code",
        "colab": {}
      },
      "source": [
        "# 以下は動作確認，ImageNet の利用\n",
        "# ただし本来 ImageNet の画像利用には登録が必要である\n",
        "# そのため，利用時には各ユーザの責任において ImageNet への登録申請を行うこと\n",
        "# 参照 URL: http://image-net.org/download-images\n",
        "# 文献: J. Deng, W. Dong, R. Socher, L.-J. Li, K. Li and L. Fei-Fei, ImageNet: A Large-Scale Hierarchical Image Database,\n",
        "#       IEEE Computer Vision and Pattern Recognition (CVPR), 2009.\n",
        "from ccap import imagenetDataset\n",
        "imagenet = imagenetDataset()\n",
        "\n",
        "# 最初のデータの表示\n",
        "print(imagenet(0))\n",
        "\n",
        "# 4 番目のデータ 0 から始まるので 3 が 4 番目のデータを表す\n",
        "print(imagenet.data[3])\n",
        "\n",
        "# 最後の画像データをランダムサンプリングして一枚だけ表示\n",
        "# 実行するたび表示されるデータは異なる\n",
        "imagenet.sample_and_show(999)"
      ],
      "execution_count": null,
      "outputs": []
    },
    {
      "cell_type": "code",
      "metadata": {
        "id": "7yDwGfrlflw6",
        "colab_type": "code",
        "colab": {}
      },
      "source": [
        "# TLPA データの利用\n",
        "# 文献: 藤田郁代 他, 2000, 「失語症語彙検査」の開発, 音声言語医学 42:179-202\n",
        "from ccap import tlpaDataset\n",
        "tlpa = tlpaDataset()\n",
        "\n",
        "# 最初のデータの表示\n",
        "print(tlpa(0))\n",
        "\n",
        "# 図版画像の表示\n",
        "tlpa.show_an_image('桜')\n",
        "\n",
        "# 総データ数の表示\n",
        "print(tlpa.__len__())"
      ],
      "execution_count": null,
      "outputs": []
    },
    {
      "cell_type": "code",
      "metadata": {
        "id": "WPl_Y-WNhz5u",
        "colab_type": "code",
        "colab": {}
      },
      "source": [
        "# SALA の利用\n",
        "# SALA失語症検査マニュアル (Sophia Analysis of Language in Aphasia), 2004, 上智大学SALAプロジェクトチーム, 藤林眞理子他\n",
        "from ccap import salaDataset\n",
        "sala = salaDataset()\n",
        "\n",
        "# 最初のデータの画像ファイル名と対応するラベルの表示\n",
        "print(sala(0))\n",
        "\n",
        "# 総データ数の表示\n",
        "print(sala.__len__())\n",
        "\n",
        "# 4 番目の画像の表示\n",
        "sala.show_an_image(3)"
      ],
      "execution_count": null,
      "outputs": []
    },
    {
      "cell_type": "code",
      "metadata": {
        "id": "eD_dc9lFw1TI",
        "colab_type": "code",
        "colab": {}
      },
      "source": [
        "# PNT の利用\n",
        "# 文献: Roach et. al, (1996) The Philadelphia Naming Test: Scoring and Rationale, Clinical Aphasiology, Vol. 24, 1996, pp. 121-133\n",
        "from ccap import pntDataset\n",
        "pnt = pntDataset()\n",
        "\n",
        "# 最初のデータの画像ファイル名と対応するラベルの表示\n",
        "print(pnt(0))\n",
        "\n",
        "# 総データ数の表示\n",
        "print(pnt.__len__())\n",
        "\n",
        "# 4 番目の画像の表示\n",
        "pnt.show_an_image(3)"
      ],
      "execution_count": null,
      "outputs": []
    },
    {
      "cell_type": "code",
      "metadata": {
        "id": "mbjI5VwEjlBV",
        "colab_type": "code",
        "colab": {}
      },
      "source": [
        "# Snodgrass and Vanderwart の利用\n",
        "from ccap import snodgrassDataset\n",
        "snodgrass = snodgrassDataset()\n",
        "\n",
        "# 最初のデータの画像ファイル名と対応するラベルの表示\n",
        "print(snodgrass(0))\n",
        "\n",
        "# 総データ数の表示\n",
        "print(snodgrass.__len__())\n",
        "\n",
        "# 4 番目の画像の表示\n",
        "snodgrass.show_an_image(4)"
      ],
      "execution_count": null,
      "outputs": []
    },
    {
      "cell_type": "code",
      "metadata": {
        "id": "xr5rqKlhj1LK",
        "colab_type": "code",
        "colab": {}
      },
      "source": [
        ""
      ],
      "execution_count": null,
      "outputs": []
    }
  ]
}